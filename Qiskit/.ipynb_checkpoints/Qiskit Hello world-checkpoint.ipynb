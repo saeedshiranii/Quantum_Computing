{
 "cells": [
  {
   "cell_type": "markdown",
   "id": "91565cf6",
   "metadata": {},
   "source": [
    "This is ganna be a small simulation of quantum entangelment"
   ]
  },
  {
   "cell_type": "code",
   "execution_count": null,
   "id": "3c84163e",
   "metadata": {},
   "outputs": [],
   "source": []
  },
  {
   "cell_type": "code",
   "execution_count": 2,
   "id": "2a3bd39e",
   "metadata": {},
   "outputs": [],
   "source": [
    "from qiskit import * "
   ]
  },
  {
   "cell_type": "code",
   "execution_count": null,
   "id": "9efbc19a",
   "metadata": {},
   "outputs": [],
   "source": []
  },
  {
   "cell_type": "markdown",
   "id": "85206a31",
   "metadata": {},
   "source": [
    "Create two classic bits"
   ]
  },
  {
   "cell_type": "code",
   "execution_count": 22,
   "id": "b5a75ae0",
   "metadata": {},
   "outputs": [],
   "source": [
    "cr = ClassicalRegister(2)"
   ]
  },
  {
   "cell_type": "markdown",
   "id": "2b377571",
   "metadata": {},
   "source": [
    "Create two Qbits"
   ]
  },
  {
   "cell_type": "code",
   "execution_count": 23,
   "id": "8d2583e9",
   "metadata": {},
   "outputs": [],
   "source": [
    "qr = QuantumRegister(2)"
   ]
  },
  {
   "cell_type": "markdown",
   "id": "94bb5e54",
   "metadata": {},
   "source": [
    "Now we should create a simple circuit"
   ]
  },
  {
   "cell_type": "code",
   "execution_count": 24,
   "id": "4ff82a70",
   "metadata": {},
   "outputs": [],
   "source": [
    "circuit = QuantumCircuit(qr, cr)"
   ]
  },
  {
   "cell_type": "markdown",
   "id": "816cd07d",
   "metadata": {},
   "source": [
    "now visualize circuit using matplotlib"
   ]
  },
  {
   "cell_type": "code",
   "execution_count": 25,
   "id": "c01f19e1",
   "metadata": {},
   "outputs": [],
   "source": [
    "%matplotlib inline"
   ]
  },
  {
   "cell_type": "code",
   "execution_count": 30,
   "id": "a28e6262",
   "metadata": {},
   "outputs": [
    {
     "data": {
      "text/html": [
       "<pre style=\"word-wrap: normal;white-space: pre;background: #fff0;line-height: 1.1;font-family: &quot;Courier New&quot;,Courier,monospace\">      ┌───┐\n",
       "q3_0: ┤ H ├\n",
       "      └───┘\n",
       "q3_1: ─────\n",
       "           \n",
       "c3: 2/═════\n",
       "           </pre>"
      ],
      "text/plain": [
       "      ┌───┐\n",
       "q3_0: ┤ H ├\n",
       "      └───┘\n",
       "q3_1: ─────\n",
       "           \n",
       "c3: 2/═════\n",
       "           "
      ]
     },
     "execution_count": 30,
     "metadata": {},
     "output_type": "execute_result"
    }
   ],
   "source": [
    "circuit.draw()"
   ]
  },
  {
   "cell_type": "markdown",
   "id": "567bff80",
   "metadata": {},
   "source": [
    "###### as  we can see there is two qbits and two classic bits \n",
    "###### now we shuold add a hadmard and control_NOT oprator to simulate entangelment:"
   ]
  },
  {
   "cell_type": "code",
   "execution_count": 27,
   "id": "1c5c95b7",
   "metadata": {},
   "outputs": [
    {
     "data": {
      "text/plain": [
       "<qiskit.circuit.instructionset.InstructionSet at 0x163b040f460>"
      ]
     },
     "execution_count": 27,
     "metadata": {},
     "output_type": "execute_result"
    }
   ],
   "source": [
    "# effect hadmard opreator to circuit (to one of qbits) \n",
    "circuit.h(qr[0])"
   ]
  },
  {
   "cell_type": "code",
   "execution_count": 29,
   "id": "8cdf7dcb",
   "metadata": {},
   "outputs": [
    {
     "data": {
      "image/png": "[encoded data removed]",
      "text/plain": [
       "<Figure size 222.116x284.278 with 1 Axes>"
      ]
     },
     "execution_count": 29,
     "metadata": {},
     "output_type": "execute_result"
    }
   ],
   "source": [
    "# visuialize \n",
    "circuit.draw(output = \"mpl\")"
   ]
  },
  {
   "cell_type": "code",
   "execution_count": 33,
   "id": "7f5bbddd",
   "metadata": {},
   "outputs": [
    {
     "data": {
      "text/plain": [
       "<qiskit.circuit.instructionset.InstructionSet at 0x163aff147f0>"
      ]
     },
     "execution_count": 33,
     "metadata": {},
     "output_type": "execute_result"
    }
   ],
   "source": [
    "# now we effect CONTROLED_NOT opreator to our circuit\n",
    "# this opraetor effect on one state and convert it to another state\n",
    "\n",
    "circuit.cx(qr[0], qr[1])# control: first qubit qr[0], and target is seconde qbit qr[1]\n"
   ]
  },
  {
   "cell_type": "code",
   "execution_count": 34,
   "id": "0db642f9",
   "metadata": {},
   "outputs": [
    {
     "data": {
      "image/png": "[encoded data removed]",
      "text/plain": [
       "<Figure size 305.727x284.278 with 1 Axes>"
      ]
     },
     "execution_count": 34,
     "metadata": {},
     "output_type": "execute_result"
    }
   ],
   "source": [
    "circuit.draw(output = \"mpl\")"
   ]
  },
  {
   "cell_type": "markdown",
   "id": "9a29da32",
   "metadata": {},
   "source": [
    "now we are gonna measurment qubits in our circuit. as we know when you measur a qbit, it will act like a single bit"
   ]
  },
  {
   "cell_type": "code",
   "execution_count": 36,
   "id": "e265e68a",
   "metadata": {},
   "outputs": [
    {
     "data": {
      "text/plain": [
       "<qiskit.circuit.instructionset.InstructionSet at 0x163b00440d0>"
      ]
     },
     "execution_count": 36,
     "metadata": {},
     "output_type": "execute_result"
    }
   ],
   "source": [
    "circuit.measure(qr, cr)"
   ]
  },
  {
   "cell_type": "code",
   "execution_count": 37,
   "id": "e6d54486",
   "metadata": {},
   "outputs": [
    {
     "data": {
      "image/png": "[encoded data removed]",
      "text/plain": [
       "<Figure size 472.949x284.278 with 1 Axes>"
      ]
     },
     "execution_count": 37,
     "metadata": {},
     "output_type": "execute_result"
    }
   ],
   "source": [
    "circuit.draw(output = \"mpl\")"
   ]
  },
  {
   "cell_type": "markdown",
   "id": "a5253172",
   "metadata": {},
   "source": [
    "## Now we are gonna run this circuit Localy on my computer \n",
    "### if run was alright we could run it on quantum computer of IBM"
   ]
  },
  {
   "cell_type": "code",
   "execution_count": 40,
   "id": "dd48a6a4",
   "metadata": {},
   "outputs": [],
   "source": [
    "simulator = Aer.get_backend(\"qasm_simulator\") # qasm is name of the simulator"
   ]
  },
  {
   "cell_type": "code",
   "execution_count": 45,
   "id": "8a23782d",
   "metadata": {},
   "outputs": [],
   "source": [
    "# Now we create a simulator, we should execute it \n",
    "result = execute(circuit, backend= simulator).result() # (circuite, simulator)"
   ]
  },
  {
   "cell_type": "code",
   "execution_count": 46,
   "id": "13cc685e",
   "metadata": {},
   "outputs": [],
   "source": [
    "from qiskit.tools.visualization import plot_histogram"
   ]
  },
  {
   "cell_type": "code",
   "execution_count": 48,
   "id": "dbd9935b",
   "metadata": {},
   "outputs": [
    {
     "data": {
      "image/png": "[encoded data removed]",
      "text/plain": [
       "<Figure size 700x500 with 1 Axes>"
      ]
     },
     "execution_count": 48,
     "metadata": {},
     "output_type": "execute_result"
    }
   ],
   "source": [
    "plot_histogram(result.get_counts(circuit))"
   ]
  },
  {
   "cell_type": "markdown",
   "id": "14b469bf",
   "metadata": {},
   "source": [
    "this is a ideal simulator so we got a almost 50 - 50 probability for each state"
   ]
  },
  {
   "cell_type": "markdown",
   "id": "810fbdc4",
   "metadata": {},
   "source": [
    "### now we are going to run our code on IBM computer "
   ]
  },
  {
   "cell_type": "markdown",
   "id": "a6e82d23",
   "metadata": {},
   "source": [
    "first we should load our account "
   ]
  },
  {
   "cell_type": "code",
   "execution_count": null,
   "id": "175a6484",
   "metadata": {},
   "outputs": [],
   "source": []
  }
 ],
 "metadata": {
  "kernelspec": {
   "display_name": "Python 3 (ipykernel)",
   "language": "python",
   "name": "python3"
  },
  "language_info": {
   "codemirror_mode": {
    "name": "ipython",
    "version": 3
   },
   "file_extension": ".py",
   "mimetype": "text/x-python",
   "name": "python",
   "nbconvert_exporter": "python",
   "pygments_lexer": "ipython3",
   "version": "3.11.1"
  }
 },
 "nbformat": 4,
 "nbformat_minor": 5
}
