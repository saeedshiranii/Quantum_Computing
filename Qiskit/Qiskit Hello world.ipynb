{
 "cells": [
  {
   "cell_type": "markdown",
   "id": "5d3f92bb",
   "metadata": {},
   "source": [
    "This is ganna be a small simulation of quantum entangelment"
   ]
  },
  {
   "cell_type": "code",
   "execution_count": null,
   "id": "63cd8ea6",
   "metadata": {},
   "outputs": [],
   "source": []
  },
  {
   "cell_type": "code",
   "execution_count": 1,
   "id": "e4a4535a",
   "metadata": {},
   "outputs": [],
   "source": [
    "from qiskit import * "
   ]
  },
  {
   "cell_type": "code",
   "execution_count": null,
   "id": "ce922469",
   "metadata": {},
   "outputs": [],
   "source": []
  },
  {
   "cell_type": "markdown",
   "id": "04a57911",
   "metadata": {},
   "source": [
    "Create two classic bits"
   ]
  },
  {
   "cell_type": "code",
   "execution_count": 2,
   "id": "096f4527",
   "metadata": {},
   "outputs": [],
   "source": [
    "cr = ClassicalRegister(2)"
   ]
  },
  {
   "cell_type": "markdown",
   "id": "33c27f87",
   "metadata": {},
   "source": [
    "Create two Qbits"
   ]
  },
  {
   "cell_type": "code",
   "execution_count": 3,
   "id": "87515281",
   "metadata": {},
   "outputs": [],
   "source": [
    "qr = QuantumRegister(2)"
   ]
  },
  {
   "cell_type": "markdown",
   "id": "38590403",
   "metadata": {},
   "source": [
    "Now we should create a simple circuit"
   ]
  },
  {
   "cell_type": "code",
   "execution_count": 4,
   "id": "7fb258ce",
   "metadata": {},
   "outputs": [],
   "source": [
    "circuit = QuantumCircuit(qr, cr)"
   ]
  },
  {
   "cell_type": "markdown",
   "id": "61bb3e93",
   "metadata": {},
   "source": [
    "now visualize circuit using matplotlib"
   ]
  },
  {
   "cell_type": "code",
   "execution_count": 5,
   "id": "71cb3b0a",
   "metadata": {},
   "outputs": [],
   "source": [
    "%matplotlib inline"
   ]
  },
  {
   "cell_type": "code",
   "execution_count": 6,
   "id": "78111b5f",
   "metadata": {},
   "outputs": [
    {
     "data": {
      "text/html": [
       "<pre style=\"word-wrap: normal;white-space: pre;background: #fff0;line-height: 1.1;font-family: &quot;Courier New&quot;,Courier,monospace\">      \n",
       "q0_0: \n",
       "      \n",
       "q0_1: \n",
       "      \n",
       "c0: 2/\n",
       "      </pre>"
      ],
      "text/plain": [
       "      \n",
       "q0_0: \n",
       "      \n",
       "q0_1: \n",
       "      \n",
       "c0: 2/\n",
       "      "
      ]
     },
     "execution_count": 6,
     "metadata": {},
     "output_type": "execute_result"
    }
   ],
   "source": [
    "circuit.draw()"
   ]
  },
  {
   "cell_type": "markdown",
   "id": "07aea512",
   "metadata": {},
   "source": [
    "###### as  we can see there is two qbits and two classic bits \n",
    "###### now we shuold add a hadmard and control_NOT oprator to simulate entangelment:"
   ]
  },
  {
   "cell_type": "code",
   "execution_count": 7,
   "id": "bcc54282",
   "metadata": {},
   "outputs": [
    {
     "data": {
      "text/plain": [
       "<qiskit.circuit.instructionset.InstructionSet at 0x12fff498a30>"
      ]
     },
     "execution_count": 7,
     "metadata": {},
     "output_type": "execute_result"
    }
   ],
   "source": [
    "# effect hadmard opreator to circuit (to one of qbits) \n",
    "circuit.h(qr[0])"
   ]
  },
  {
   "cell_type": "code",
   "execution_count": 8,
   "id": "536a5dc8",
   "metadata": {},
   "outputs": [
    {
     "data": {
      "image/png": "[encoded data removed]",
      "text/plain": [
       "<Figure size 221.712x284.278 with 1 Axes>"
      ]
     },
     "execution_count": 8,
     "metadata": {},
     "output_type": "execute_result"
    }
   ],
   "source": [
    "# visuialize \n",
    "circuit.draw(output = \"mpl\")"
   ]
  },
  {
   "cell_type": "code",
   "execution_count": 9,
   "id": "559c2b3d",
   "metadata": {},
   "outputs": [
    {
     "data": {
      "text/plain": [
       "<qiskit.circuit.instructionset.InstructionSet at 0x12fff70b310>"
      ]
     },
     "execution_count": 9,
     "metadata": {},
     "output_type": "execute_result"
    }
   ],
   "source": [
    "# now we effect CONTROLED_NOT opreator to our circuit\n",
    "# this opraetor effect on one state and convert it to another state\n",
    "\n",
    "circuit.cx(qr[0], qr[1])# control: first qubit qr[0], and target is seconde qbit qr[1]\n"
   ]
  },
  {
   "cell_type": "code",
   "execution_count": 10,
   "id": "a9a136cb",
   "metadata": {},
   "outputs": [
    {
     "data": {
      "image/png": "[encoded data removed]",
      "text/plain": [
       "<Figure size 305.323x284.278 with 1 Axes>"
      ]
     },
     "execution_count": 10,
     "metadata": {},
     "output_type": "execute_result"
    }
   ],
   "source": [
    "circuit.draw(output = \"mpl\")"
   ]
  },
  {
   "cell_type": "markdown",
   "id": "e1d7b916",
   "metadata": {},
   "source": [
    "now we are gonna measurment qubits in our circuit. as we know when you measur a qbit, it will act like a single bit"
   ]
  },
  {
   "cell_type": "code",
   "execution_count": 11,
   "id": "4fe1244e",
   "metadata": {},
   "outputs": [
    {
     "data": {
      "text/plain": [
       "<qiskit.circuit.instructionset.InstructionSet at 0x12fff794790>"
      ]
     },
     "execution_count": 11,
     "metadata": {},
     "output_type": "execute_result"
    }
   ],
   "source": [
    "circuit.measure(qr, cr)"
   ]
  },
  {
   "cell_type": "code",
   "execution_count": 12,
   "id": "717a505e",
   "metadata": {},
   "outputs": [
    {
     "data": {
      "image/png": "[encoded data removed]",
      "text/plain": [
       "<Figure size 472.545x284.278 with 1 Axes>"
      ]
     },
     "execution_count": 12,
     "metadata": {},
     "output_type": "execute_result"
    }
   ],
   "source": [
    "circuit.draw(output = \"mpl\")"
   ]
  },
  {
   "cell_type": "markdown",
   "id": "b0c9721b",
   "metadata": {},
   "source": [
    "## Now we are gonna run this circuit Localy on my computer \n",
    "### if run was alright we could run it on quantum computer of IBM"
   ]
  },
  {
   "cell_type": "code",
   "execution_count": 13,
   "id": "65fe7eb4",
   "metadata": {},
   "outputs": [],
   "source": [
    "simulator = Aer.get_backend(\"qasm_simulator\") # qasm is name of the simulator"
   ]
  },
  {
   "cell_type": "code",
   "execution_count": 14,
   "id": "91273f20",
   "metadata": {},
   "outputs": [],
   "source": [
    "# Now we create a simulator, we should execute it \n",
    "result = execute(circuit, backend= simulator).result() # (circuite, simulator)"
   ]
  },
  {
   "cell_type": "code",
   "execution_count": 32,
   "id": "e737ee7d",
   "metadata": {},
   "outputs": [],
   "source": [
    "from qiskit.tools.visualization import plot_histogram"
   ]
  },
  {
   "cell_type": "code",
   "execution_count": null,
   "id": "259bc3b5",
   "metadata": {},
   "outputs": [],
   "source": [
    "sum(counts.values())"
   ]
  },
  {
   "cell_type": "code",
   "execution_count": null,
   "id": "4391dedd",
   "metadata": {},
   "outputs": [],
   "source": []
  },
  {
   "cell_type": "code",
   "execution_count": null,
   "id": "a8d065d7",
   "metadata": {},
   "outputs": [],
   "source": []
  },
  {
   "cell_type": "code",
   "execution_count": 31,
   "id": "748391b9",
   "metadata": {},
   "outputs": [
    {
     "data": {
      "image/png": "[encoded data removed]",
      "text/plain": [
       "<Figure size 700x500 with 1 Axes>"
      ]
     },
     "execution_count": 31,
     "metadata": {},
     "output_type": "execute_result"
    }
   ],
   "source": [
    "plot_histogram(result.get_counts(circuit))"
   ]
  },
  {
   "cell_type": "markdown",
   "id": "df042998",
   "metadata": {},
   "source": [
    "this is a ideal simulator so we got a almost 50 - 50 probability for each state"
   ]
  },
  {
   "cell_type": "markdown",
   "id": "c9c9130e",
   "metadata": {},
   "source": [
    "### now we are going to run our code on IBM computer "
   ]
  },
  {
   "cell_type": "markdown",
   "id": "cc46f504",
   "metadata": {},
   "source": [
    "first we should load our account "
   ]
  },
  {
   "cell_type": "code",
   "execution_count": 17,
   "id": "17b14a14",
   "metadata": {},
   "outputs": [
    {
     "name": "stderr",
     "output_type": "stream",
     "text": [
      "C:\\Users\\Saeed\\AppData\\Local\\Temp\\ipykernel_18340\\1537863040.py:4: DeprecationWarning: The package qiskit.providers.ibmq is being deprecated. Please see https://ibm.biz/provider_migration_guide to get instructions on how to migrate to qiskit-ibm-provider (https://github.com/Qiskit/qiskit-ibm-provider) and qiskit-ibm-runtime (https://github.com/Qiskit/qiskit-ibm-runtime).\n",
      "  IBMQ.save_account(TOKEN)\n",
      "C:\\Users\\Saeed\\AppData\\Local\\Temp\\ipykernel_18340\\1537863040.py:4: DeprecationWarning: The qiskit.IBMQ entrypoint and the qiskit-ibmq-provider package (accessible from 'qiskit.providers.ibmq`) are deprecated and will be removed in a future release. Instead you should use the qiskit-ibm-provider package which is accessible from 'qiskit_ibm_provider'. You can install it with 'pip install qiskit_ibm_provider'. Just replace 'qiskit.IBMQ' with 'qiskit_ibm_provider.IBMProvider'\n",
      "  IBMQ.save_account(TOKEN)\n",
      "configrc.store_credentials:WARNING:2023-03-23 00:44:06,906: Credentials already present. Set overwrite=True to overwrite.\n"
     ]
    },
    {
     "data": {
      "text/plain": [
       "<AccountProvider for IBMQ(hub='ibm-q', group='open', project='main')>"
      ]
     },
     "execution_count": 17,
     "metadata": {},
     "output_type": "execute_result"
    }
   ],
   "source": [
    "# import token and identify my account\n",
    "\n",
    "TOKEN = 'Your token'\n",
    "IBMQ.save_account(TOKEN)\n",
    "IBMQ.load_account()"
   ]
  },
  {
   "cell_type": "code",
   "execution_count": 20,
   "id": "65ed838c",
   "metadata": {},
   "outputs": [],
   "source": [
    "provider = IBMQ.get_provider('ibm-q')"
   ]
  },
  {
   "cell_type": "code",
   "execution_count": 22,
   "id": "ac4cb0e2",
   "metadata": {},
   "outputs": [],
   "source": [
    "qcomp = provider.get_backend('ibmq_qasm_simulator')"
   ]
  },
  {
   "cell_type": "code",
   "execution_count": 23,
   "id": "70ece0cc",
   "metadata": {},
   "outputs": [],
   "source": [
    "job = execute(circuit, backend=qcomp)"
   ]
  },
  {
   "cell_type": "code",
   "execution_count": 24,
   "id": "aa9328c3",
   "metadata": {},
   "outputs": [],
   "source": [
    "from qiskit.tools.monitor import job_monitor"
   ]
  },
  {
   "cell_type": "code",
   "execution_count": 25,
   "id": "4da92ed8",
   "metadata": {},
   "outputs": [
    {
     "name": "stdout",
     "output_type": "stream",
     "text": [
      "\r",
      "Job Status: job has successfully run\n"
     ]
    }
   ],
   "source": [
    "job_monitor(job)"
   ]
  },
  {
   "cell_type": "code",
   "execution_count": 26,
   "id": "3eb79ca2",
   "metadata": {},
   "outputs": [],
   "source": [
    "result = job.result()"
   ]
  },
  {
   "cell_type": "code",
   "execution_count": 30,
   "id": "2b3ffade",
   "metadata": {},
   "outputs": [
    {
     "data": {
      "image/png": "[encoded data removed]",
      "text/plain": [
       "<Figure size 700x500 with 1 Axes>"
      ]
     },
     "execution_count": 30,
     "metadata": {},
     "output_type": "execute_result"
    }
   ],
   "source": [
    "plot_histogram(result.get_counts(circuit))"
   ]
  },
  {
   "cell_type": "code",
   "execution_count": null,
   "id": "33e41dad",
   "metadata": {},
   "outputs": [],
   "source": []
  },
  {
   "cell_type": "code",
   "execution_count": null,
   "id": "3911e664",
   "metadata": {},
   "outputs": [],
   "source": []
  },
  {
   "cell_type": "code",
   "execution_count": null,
   "id": "f894366d",
   "metadata": {},
   "outputs": [],
   "source": []
  }
 ],
 "metadata": {
  "kernelspec": {
   "display_name": "Python 3 (ipykernel)",
   "language": "python",
   "name": "python3"
  },
  "language_info": {
   "codemirror_mode": {
    "name": "ipython",
    "version": 3
   },
   "file_extension": ".py",
   "mimetype": "text/x-python",
   "name": "python",
   "nbconvert_exporter": "python",
   "pygments_lexer": "ipython3",
   "version": "3.11.1"
  }
 },
 "nbformat": 4,
 "nbformat_minor": 5
}
