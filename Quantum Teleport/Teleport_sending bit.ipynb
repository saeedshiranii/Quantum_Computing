{
 "cells": [
  {
   "attachments": {},
   "cell_type": "markdown",
   "metadata": {},
   "source": [
    "# Quantum Teleportation (Simple protocol - Three Qbits )"
   ]
  },
  {
   "attachments": {},
   "cell_type": "markdown",
   "metadata": {},
   "source": [
    "in this protocol we have three qubits, one of them is in the Alices lab(General state) shown as |$\\psi$>  \n",
    "\n",
    "\n",
    "\n",
    "the other two are in the bell states. one of them is in the Alices lab and another one is in the Bob's Lab\n",
    "\n",
    "Alice do measurements on General Qubit and her own entangled Qubit.\n",
    "result of this measurements is two separate classical Bits.\n",
    "\n",
    "She will send two Bits to Bob. Bob will use bit flips and phase filipes to bits and his own qubit to see a qubit in a final state. \n",
    "\n",
    "according to the quantum roll's final state of bob qubit is exactly the same of first state of $|\\psi>$ \n",
    "\n",
    "an important Note: after measurements of Alice, $|\\psi>$ is absaloutly destroyed and it recerate in the Bobs lab.\n",
    "  \n",
    "Question: when exactly General Qubit is destroyed?????"
   ]
  },
  {
   "attachments": {},
   "cell_type": "markdown",
   "metadata": {},
   "source": []
  },
  {
   "attachments": {},
   "cell_type": "markdown",
   "metadata": {},
   "source": [
    "### Now we are on the same page, i think it's a good time to create a Quantum circuit for described QT protocol."
   ]
  },
  {
   "cell_type": "code",
   "execution_count": null,
   "metadata": {},
   "outputs": [],
   "source": [
    "# first of all, we should call required libraries.\n",
    "# we are gonna using Qiskit, our codes are gonna simulate on my local machine, and if every thing was all right ...\n",
    "# ... Then we can run our circuit(or desired number of them) on IBM QC machines."
   ]
  },
  {
   "cell_type": "code",
   "execution_count": null,
   "metadata": {},
   "outputs": [],
   "source": [
    "from qiskit import QuantumCircuit, ClassicalRegister, QuantumCircuit"
   ]
  },
  {
   "cell_type": "code",
   "execution_count": null,
   "metadata": {},
   "outputs": [],
   "source": []
  },
  {
   "cell_type": "code",
   "execution_count": null,
   "metadata": {},
   "outputs": [],
   "source": []
  },
  {
   "attachments": {},
   "cell_type": "markdown",
   "metadata": {},
   "source": []
  }
 ],
 "metadata": {
  "kernelspec": {
   "display_name": "Python 3",
   "language": "python",
   "name": "python3"
  },
  "language_info": {
   "codemirror_mode": {
    "name": "ipython",
    "version": 3
   },
   "file_extension": ".py",
   "mimetype": "text/x-python",
   "name": "python",
   "nbconvert_exporter": "python",
   "pygments_lexer": "ipython3",
   "version": "3.11.4"
  },
  "orig_nbformat": 4
 },
 "nbformat": 4,
 "nbformat_minor": 2
}
